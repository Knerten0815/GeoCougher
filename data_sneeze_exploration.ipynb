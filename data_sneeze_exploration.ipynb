{
 "cells": [
  {
   "cell_type": "code",
   "execution_count": 10,
   "metadata": {},
   "outputs": [
    {
     "name": "stdout",
     "output_type": "stream",
     "text": [
      "\n",
      "Current working directory: c:\\Users\\kevin\\Documents\\MMI\\Audio Data Science\\DataSneeze\n",
      "\n"
     ]
    }
   ],
   "source": [
    "import pandas as pd\n",
    "import os\n",
    "\n",
    "current_directory = os.getcwd()\n",
    "print(f\"\\nCurrent working directory: {current_directory}\\n\")\n",
    "\n",
    "#path_data = \"Datasets\\covid19-cough-audio-classification\"\n",
    "#filename = os.path.join(path_data, \"metadata_compiled.csv\")\n",
    "\n",
    "path_data = \"../vs_release_16k\"\n",
    "filename = os.path.join(path_data, \"all_meta.csv\")\n",
    "\n",
    "data = pd.read_csv(filename, encoding=\"latin-1\")"
   ]
  },
  {
   "cell_type": "code",
   "execution_count": 12,
   "metadata": {},
   "outputs": [
    {
     "data": {
      "text/plain": [
       "language\n",
       "EN    2262\n",
       "PT     277\n",
       "IT     233\n",
       "TA     129\n",
       "HI      94\n",
       "ES      84\n",
       "ML      51\n",
       "TE      35\n",
       "FR      31\n",
       "DE      14\n",
       "ZH      13\n",
       "AR      12\n",
       "BN      12\n",
       "GU       8\n",
       "RO       8\n",
       "FA       8\n",
       "MR       8\n",
       "RU       7\n",
       "UR       7\n",
       "NL       7\n",
       "VI       6\n",
       "TR       5\n",
       "SW       4\n",
       "KO       4\n",
       "SQ       4\n",
       "NE       4\n",
       "BG       3\n",
       "PL       3\n",
       "AF       3\n",
       "ID       3\n",
       "ET       3\n",
       "UK       3\n",
       "MS       2\n",
       "LT       2\n",
       "HY       2\n",
       "PA       2\n",
       "MK       2\n",
       "KA       1\n",
       "HR       1\n",
       "HU       1\n",
       "CA       1\n",
       "FI       1\n",
       "SR       1\n",
       "HE       1\n",
       "EL       1\n",
       "SL       1\n",
       "LV       1\n",
       "Name: count, dtype: int64"
      ]
     },
     "execution_count": 12,
     "metadata": {},
     "output_type": "execute_result"
    }
   ],
   "source": [
    "data.language.value_counts()"
   ]
  },
  {
   "cell_type": "code",
   "execution_count": 13,
   "metadata": {},
   "outputs": [
    {
     "data": {
      "text/html": [
       "<div>\n",
       "<style scoped>\n",
       "    .dataframe tbody tr th:only-of-type {\n",
       "        vertical-align: middle;\n",
       "    }\n",
       "\n",
       "    .dataframe tbody tr th {\n",
       "        vertical-align: top;\n",
       "    }\n",
       "\n",
       "    .dataframe thead th {\n",
       "        text-align: right;\n",
       "    }\n",
       "</style>\n",
       "<table border=\"1\" class=\"dataframe\">\n",
       "  <thead>\n",
       "    <tr style=\"text-align: right;\">\n",
       "      <th></th>\n",
       "      <th>ID</th>\n",
       "      <th>gender</th>\n",
       "      <th>age</th>\n",
       "      <th>country</th>\n",
       "      <th>language</th>\n",
       "      <th>sick</th>\n",
       "    </tr>\n",
       "  </thead>\n",
       "  <tbody>\n",
       "    <tr>\n",
       "      <th>0</th>\n",
       "      <td>m0001</td>\n",
       "      <td>male</td>\n",
       "      <td>36</td>\n",
       "      <td>United States of America</td>\n",
       "      <td>EN</td>\n",
       "      <td>no</td>\n",
       "    </tr>\n",
       "    <tr>\n",
       "      <th>1</th>\n",
       "      <td>m0002</td>\n",
       "      <td>male</td>\n",
       "      <td>19</td>\n",
       "      <td>Italy</td>\n",
       "      <td>IT</td>\n",
       "      <td>yes</td>\n",
       "    </tr>\n",
       "    <tr>\n",
       "      <th>2</th>\n",
       "      <td>f0003</td>\n",
       "      <td>female</td>\n",
       "      <td>56</td>\n",
       "      <td>United States of America</td>\n",
       "      <td>EN</td>\n",
       "      <td>no</td>\n",
       "    </tr>\n",
       "    <tr>\n",
       "      <th>3</th>\n",
       "      <td>f0004</td>\n",
       "      <td>female</td>\n",
       "      <td>41</td>\n",
       "      <td>United States of America</td>\n",
       "      <td>EN</td>\n",
       "      <td>no</td>\n",
       "    </tr>\n",
       "    <tr>\n",
       "      <th>4</th>\n",
       "      <td>o0005</td>\n",
       "      <td>other</td>\n",
       "      <td>22</td>\n",
       "      <td>United States of America</td>\n",
       "      <td>EN</td>\n",
       "      <td>no</td>\n",
       "    </tr>\n",
       "  </tbody>\n",
       "</table>\n",
       "</div>"
      ],
      "text/plain": [
       "      ID   gender  age                    country language  sick\n",
       "0  m0001     male   36   United States of America       EN    no\n",
       "1  m0002     male   19                      Italy       IT   yes\n",
       "2  f0003   female   56   United States of America       EN    no\n",
       "3  f0004   female   41   United States of America       EN    no\n",
       "4  o0005    other   22   United States of America       EN    no"
      ]
     },
     "execution_count": 13,
     "metadata": {},
     "output_type": "execute_result"
    }
   ],
   "source": [
    "data.head()"
   ]
  },
  {
   "cell_type": "code",
   "execution_count": null,
   "metadata": {},
   "outputs": [],
   "source": []
  }
 ],
 "metadata": {
  "kernelspec": {
   "display_name": "base",
   "language": "python",
   "name": "python3"
  },
  "language_info": {
   "codemirror_mode": {
    "name": "ipython",
    "version": 3
   },
   "file_extension": ".py",
   "mimetype": "text/x-python",
   "name": "python",
   "nbconvert_exporter": "python",
   "pygments_lexer": "ipython3",
   "version": "3.9.19"
  }
 },
 "nbformat": 4,
 "nbformat_minor": 2
}
