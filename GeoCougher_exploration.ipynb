{
 "cells": [
  {
   "cell_type": "code",
   "execution_count": 2,
   "metadata": {},
   "outputs": [
    {
     "name": "stdout",
     "output_type": "stream",
     "text": [
      "\n",
      "Current working directory: c:\\Users\\Lenovo\\Desktop\\GeoCough\\GeoCougher\n",
      "\n"
     ]
    }
   ],
   "source": [
    "import pandas as pd\n",
    "import os\n",
    "\n",
    "current_directory = os.getcwd()\n",
    "print(f\"\\nCurrent working directory: {current_directory}\\n\")\n",
    "\n",
    "path_data = \"Datasets\\covid19-cough-audio-classification\"\n",
    "filename = os.path.join(path_data, \"metadata_compiled.csv\")\n",
    "\n",
    "data = pd.read_csv(filename, encoding=\"latin-1\")"
   ]
  },
  {
   "cell_type": "code",
   "execution_count": 3,
   "metadata": {},
   "outputs": [
    {
     "data": {
      "text/html": [
       "<div>\n",
       "<style scoped>\n",
       "    .dataframe tbody tr th:only-of-type {\n",
       "        vertical-align: middle;\n",
       "    }\n",
       "\n",
       "    .dataframe tbody tr th {\n",
       "        vertical-align: top;\n",
       "    }\n",
       "\n",
       "    .dataframe thead th {\n",
       "        text-align: right;\n",
       "    }\n",
       "</style>\n",
       "<table border=\"1\" class=\"dataframe\">\n",
       "  <thead>\n",
       "    <tr style=\"text-align: right;\">\n",
       "      <th></th>\n",
       "      <th>uuid</th>\n",
       "      <th>datetime</th>\n",
       "      <th>cough_detected</th>\n",
       "      <th>SNR</th>\n",
       "      <th>latitude</th>\n",
       "      <th>longitude</th>\n",
       "      <th>age</th>\n",
       "      <th>gender</th>\n",
       "      <th>respiratory_condition</th>\n",
       "      <th>fever_muscle_pain</th>\n",
       "      <th>...</th>\n",
       "      <th>quality_4</th>\n",
       "      <th>cough_type_4</th>\n",
       "      <th>dyspnea_4</th>\n",
       "      <th>wheezing_4</th>\n",
       "      <th>stridor_4</th>\n",
       "      <th>choking_4</th>\n",
       "      <th>congestion_4</th>\n",
       "      <th>nothing_4</th>\n",
       "      <th>diagnosis_4</th>\n",
       "      <th>severity_4</th>\n",
       "    </tr>\n",
       "  </thead>\n",
       "  <tbody>\n",
       "    <tr>\n",
       "      <th>0</th>\n",
       "      <td>00014dcc-0f06-4c27-8c7b-737b18a2cf4c</td>\n",
       "      <td>2020-11-25T18:58:50.488301+00:00</td>\n",
       "      <td>0.0155</td>\n",
       "      <td>7.326171</td>\n",
       "      <td>48.9</td>\n",
       "      <td>2.4</td>\n",
       "      <td>NaN</td>\n",
       "      <td>NaN</td>\n",
       "      <td>NaN</td>\n",
       "      <td>NaN</td>\n",
       "      <td>...</td>\n",
       "      <td>NaN</td>\n",
       "      <td>NaN</td>\n",
       "      <td>NaN</td>\n",
       "      <td>NaN</td>\n",
       "      <td>NaN</td>\n",
       "      <td>NaN</td>\n",
       "      <td>NaN</td>\n",
       "      <td>NaN</td>\n",
       "      <td>NaN</td>\n",
       "      <td>NaN</td>\n",
       "    </tr>\n",
       "    <tr>\n",
       "      <th>1</th>\n",
       "      <td>00039425-7f3a-42aa-ac13-834aaa2b6b92</td>\n",
       "      <td>2020-04-13T21:30:59.801831+00:00</td>\n",
       "      <td>0.9609</td>\n",
       "      <td>16.151433</td>\n",
       "      <td>31.3</td>\n",
       "      <td>34.8</td>\n",
       "      <td>15.0</td>\n",
       "      <td>male</td>\n",
       "      <td>False</td>\n",
       "      <td>False</td>\n",
       "      <td>...</td>\n",
       "      <td>NaN</td>\n",
       "      <td>NaN</td>\n",
       "      <td>NaN</td>\n",
       "      <td>NaN</td>\n",
       "      <td>NaN</td>\n",
       "      <td>NaN</td>\n",
       "      <td>NaN</td>\n",
       "      <td>NaN</td>\n",
       "      <td>NaN</td>\n",
       "      <td>NaN</td>\n",
       "    </tr>\n",
       "    <tr>\n",
       "      <th>2</th>\n",
       "      <td>0007c6f1-5441-40e6-9aaf-a761d8f2da3b</td>\n",
       "      <td>2020-10-18T15:38:38.205870+00:00</td>\n",
       "      <td>0.1643</td>\n",
       "      <td>16.217201</td>\n",
       "      <td>NaN</td>\n",
       "      <td>NaN</td>\n",
       "      <td>46.0</td>\n",
       "      <td>female</td>\n",
       "      <td>False</td>\n",
       "      <td>False</td>\n",
       "      <td>...</td>\n",
       "      <td>NaN</td>\n",
       "      <td>NaN</td>\n",
       "      <td>NaN</td>\n",
       "      <td>NaN</td>\n",
       "      <td>NaN</td>\n",
       "      <td>NaN</td>\n",
       "      <td>NaN</td>\n",
       "      <td>NaN</td>\n",
       "      <td>NaN</td>\n",
       "      <td>NaN</td>\n",
       "    </tr>\n",
       "    <tr>\n",
       "      <th>3</th>\n",
       "      <td>0009eb28-d8be-4dc1-92bb-907e53bc5c7a</td>\n",
       "      <td>2020-04-12T04:02:18.159383+00:00</td>\n",
       "      <td>0.9301</td>\n",
       "      <td>20.146058</td>\n",
       "      <td>40.0</td>\n",
       "      <td>-75.1</td>\n",
       "      <td>34.0</td>\n",
       "      <td>male</td>\n",
       "      <td>True</td>\n",
       "      <td>False</td>\n",
       "      <td>...</td>\n",
       "      <td>NaN</td>\n",
       "      <td>NaN</td>\n",
       "      <td>NaN</td>\n",
       "      <td>NaN</td>\n",
       "      <td>NaN</td>\n",
       "      <td>NaN</td>\n",
       "      <td>NaN</td>\n",
       "      <td>NaN</td>\n",
       "      <td>NaN</td>\n",
       "      <td>NaN</td>\n",
       "    </tr>\n",
       "    <tr>\n",
       "      <th>4</th>\n",
       "      <td>0012c608-33d0-4ef7-bde3-75a0b1a0024e</td>\n",
       "      <td>2020-04-15T01:03:59.029326+00:00</td>\n",
       "      <td>0.0482</td>\n",
       "      <td>0.000000</td>\n",
       "      <td>-16.5</td>\n",
       "      <td>-71.5</td>\n",
       "      <td>NaN</td>\n",
       "      <td>NaN</td>\n",
       "      <td>NaN</td>\n",
       "      <td>NaN</td>\n",
       "      <td>...</td>\n",
       "      <td>NaN</td>\n",
       "      <td>NaN</td>\n",
       "      <td>NaN</td>\n",
       "      <td>NaN</td>\n",
       "      <td>NaN</td>\n",
       "      <td>NaN</td>\n",
       "      <td>NaN</td>\n",
       "      <td>NaN</td>\n",
       "      <td>NaN</td>\n",
       "      <td>NaN</td>\n",
       "    </tr>\n",
       "  </tbody>\n",
       "</table>\n",
       "<p>5 rows × 51 columns</p>\n",
       "</div>"
      ],
      "text/plain": [
       "                                   uuid                          datetime  \\\n",
       "0  00014dcc-0f06-4c27-8c7b-737b18a2cf4c  2020-11-25T18:58:50.488301+00:00   \n",
       "1  00039425-7f3a-42aa-ac13-834aaa2b6b92  2020-04-13T21:30:59.801831+00:00   \n",
       "2  0007c6f1-5441-40e6-9aaf-a761d8f2da3b  2020-10-18T15:38:38.205870+00:00   \n",
       "3  0009eb28-d8be-4dc1-92bb-907e53bc5c7a  2020-04-12T04:02:18.159383+00:00   \n",
       "4  0012c608-33d0-4ef7-bde3-75a0b1a0024e  2020-04-15T01:03:59.029326+00:00   \n",
       "\n",
       "   cough_detected        SNR  latitude  longitude   age  gender  \\\n",
       "0          0.0155   7.326171      48.9        2.4   NaN     NaN   \n",
       "1          0.9609  16.151433      31.3       34.8  15.0    male   \n",
       "2          0.1643  16.217201       NaN        NaN  46.0  female   \n",
       "3          0.9301  20.146058      40.0      -75.1  34.0    male   \n",
       "4          0.0482   0.000000     -16.5      -71.5   NaN     NaN   \n",
       "\n",
       "  respiratory_condition fever_muscle_pain  ... quality_4 cough_type_4  \\\n",
       "0                   NaN               NaN  ...       NaN          NaN   \n",
       "1                 False             False  ...       NaN          NaN   \n",
       "2                 False             False  ...       NaN          NaN   \n",
       "3                  True             False  ...       NaN          NaN   \n",
       "4                   NaN               NaN  ...       NaN          NaN   \n",
       "\n",
       "  dyspnea_4 wheezing_4 stridor_4 choking_4 congestion_4 nothing_4 diagnosis_4  \\\n",
       "0       NaN        NaN       NaN       NaN          NaN       NaN         NaN   \n",
       "1       NaN        NaN       NaN       NaN          NaN       NaN         NaN   \n",
       "2       NaN        NaN       NaN       NaN          NaN       NaN         NaN   \n",
       "3       NaN        NaN       NaN       NaN          NaN       NaN         NaN   \n",
       "4       NaN        NaN       NaN       NaN          NaN       NaN         NaN   \n",
       "\n",
       "  severity_4  \n",
       "0        NaN  \n",
       "1        NaN  \n",
       "2        NaN  \n",
       "3        NaN  \n",
       "4        NaN  \n",
       "\n",
       "[5 rows x 51 columns]"
      ]
     },
     "execution_count": 3,
     "metadata": {},
     "output_type": "execute_result"
    }
   ],
   "source": [
    "data.head()"
   ]
  },
  {
   "cell_type": "markdown",
   "metadata": {},
   "source": [
    "#### Die Spalten des Datensatzes"
   ]
  },
  {
   "cell_type": "code",
   "execution_count": 7,
   "metadata": {},
   "outputs": [
    {
     "data": {
      "text/plain": [
       "Index(['uuid', 'datetime', 'cough_detected', 'SNR', 'latitude', 'longitude',\n",
       "       'age', 'gender', 'respiratory_condition', 'fever_muscle_pain', 'status',\n",
       "       'quality_1', 'cough_type_1', 'dyspnea_1', 'wheezing_1', 'stridor_1',\n",
       "       'choking_1', 'congestion_1', 'nothing_1', 'diagnosis_1', 'severity_1',\n",
       "       'quality_2', 'cough_type_2', 'dyspnea_2', 'wheezing_2', 'stridor_2',\n",
       "       'choking_2', 'congestion_2', 'nothing_2', 'diagnosis_2', 'severity_2',\n",
       "       'quality_3', 'cough_type_3', 'dyspnea_3', 'wheezing_3', 'stridor_3',\n",
       "       'choking_3', 'congestion_3', 'nothing_3', 'diagnosis_3', 'severity_3',\n",
       "       'quality_4', 'cough_type_4', 'dyspnea_4', 'wheezing_4', 'stridor_4',\n",
       "       'choking_4', 'congestion_4', 'nothing_4', 'diagnosis_4', 'severity_4'],\n",
       "      dtype='object')"
      ]
     },
     "execution_count": 7,
     "metadata": {},
     "output_type": "execute_result"
    }
   ],
   "source": [
    "data.columns"
   ]
  },
  {
   "cell_type": "markdown",
   "metadata": {},
   "source": [
    "#### Count of non-null values\n",
    "- alle Spalten unterhalb von 'Status' scheinen irrellevant"
   ]
  },
  {
   "cell_type": "code",
   "execution_count": 8,
   "metadata": {},
   "outputs": [
    {
     "data": {
      "text/plain": [
       "uuid                     27550\n",
       "datetime                 27550\n",
       "cough_detected           27550\n",
       "SNR                      27550\n",
       "latitude                 16084\n",
       "longitude                16084\n",
       "age                      15218\n",
       "gender                   16224\n",
       "respiratory_condition    16224\n",
       "fever_muscle_pain        16224\n",
       "status                   16224\n",
       "quality_1                  820\n",
       "cough_type_1               802\n",
       "dyspnea_1                  820\n",
       "wheezing_1                 820\n",
       "stridor_1                  820\n",
       "choking_1                  820\n",
       "congestion_1               820\n",
       "nothing_1                  820\n",
       "diagnosis_1                802\n",
       "severity_1                 802\n",
       "quality_2                  820\n",
       "cough_type_2               801\n",
       "dyspnea_2                  820\n",
       "wheezing_2                 820\n",
       "stridor_2                  820\n",
       "choking_2                  820\n",
       "congestion_2               820\n",
       "nothing_2                  820\n",
       "diagnosis_2                802\n",
       "severity_2                 802\n",
       "quality_3                  820\n",
       "cough_type_3               795\n",
       "dyspnea_3                  820\n",
       "wheezing_3                 820\n",
       "stridor_3                  820\n",
       "choking_3                  820\n",
       "congestion_3               820\n",
       "nothing_3                  820\n",
       "diagnosis_3                792\n",
       "severity_3                 795\n",
       "quality_4                  820\n",
       "cough_type_4               801\n",
       "dyspnea_4                  820\n",
       "wheezing_4                 820\n",
       "stridor_4                  820\n",
       "choking_4                  820\n",
       "congestion_4               820\n",
       "nothing_4                  820\n",
       "diagnosis_4                789\n",
       "severity_4                 799\n",
       "dtype: int64"
      ]
     },
     "execution_count": 8,
     "metadata": {},
     "output_type": "execute_result"
    }
   ],
   "source": [
    "data.count()"
   ]
  },
  {
   "cell_type": "markdown",
   "metadata": {},
   "source": [
    "Hier entsteht der um die erwähnten Spalten gekürtzte Dataframe"
   ]
  },
  {
   "cell_type": "code",
   "execution_count": 10,
   "metadata": {},
   "outputs": [],
   "source": [
    "data_cut = data[['uuid','datetime','cough_detected','SNR','latitude','longitude','age','gender','respiratory_condition','fever_muscle_pain','status']]"
   ]
  },
  {
   "cell_type": "markdown",
   "metadata": {},
   "source": [
    "#### Structure of Dataset"
   ]
  },
  {
   "cell_type": "code",
   "execution_count": 13,
   "metadata": {},
   "outputs": [
    {
     "name": "stdout",
     "output_type": "stream",
     "text": [
      "<class 'pandas.core.frame.DataFrame'>\n",
      "RangeIndex: 27550 entries, 0 to 27549\n",
      "Data columns (total 11 columns):\n",
      " #   Column                 Non-Null Count  Dtype  \n",
      "---  ------                 --------------  -----  \n",
      " 0   uuid                   27550 non-null  object \n",
      " 1   datetime               27550 non-null  object \n",
      " 2   cough_detected         27550 non-null  float64\n",
      " 3   SNR                    27550 non-null  float64\n",
      " 4   latitude               16084 non-null  float64\n",
      " 5   longitude              16084 non-null  float64\n",
      " 6   age                    15218 non-null  float64\n",
      " 7   gender                 16224 non-null  object \n",
      " 8   respiratory_condition  16224 non-null  object \n",
      " 9   fever_muscle_pain      16224 non-null  object \n",
      " 10  status                 16224 non-null  object \n",
      "dtypes: float64(5), object(6)\n",
      "memory usage: 2.3+ MB\n"
     ]
    }
   ],
   "source": [
    "data_cut.info()"
   ]
  },
  {
   "cell_type": "markdown",
   "metadata": {},
   "source": [
    "#### Summary statistics für SNR, age, und cough_detected"
   ]
  },
  {
   "cell_type": "code",
   "execution_count": 14,
   "metadata": {},
   "outputs": [
    {
     "data": {
      "text/html": [
       "<div>\n",
       "<style scoped>\n",
       "    .dataframe tbody tr th:only-of-type {\n",
       "        vertical-align: middle;\n",
       "    }\n",
       "\n",
       "    .dataframe tbody tr th {\n",
       "        vertical-align: top;\n",
       "    }\n",
       "\n",
       "    .dataframe thead th {\n",
       "        text-align: right;\n",
       "    }\n",
       "</style>\n",
       "<table border=\"1\" class=\"dataframe\">\n",
       "  <thead>\n",
       "    <tr style=\"text-align: right;\">\n",
       "      <th></th>\n",
       "      <th>cough_detected</th>\n",
       "      <th>SNR</th>\n",
       "      <th>age</th>\n",
       "    </tr>\n",
       "  </thead>\n",
       "  <tbody>\n",
       "    <tr>\n",
       "      <th>count</th>\n",
       "      <td>27550.000000</td>\n",
       "      <td>2.755000e+04</td>\n",
       "      <td>15218.000000</td>\n",
       "    </tr>\n",
       "    <tr>\n",
       "      <th>mean</th>\n",
       "      <td>0.649544</td>\n",
       "      <td>inf</td>\n",
       "      <td>36.800611</td>\n",
       "    </tr>\n",
       "    <tr>\n",
       "      <th>std</th>\n",
       "      <td>0.387850</td>\n",
       "      <td>NaN</td>\n",
       "      <td>14.599737</td>\n",
       "    </tr>\n",
       "    <tr>\n",
       "      <th>min</th>\n",
       "      <td>0.000000</td>\n",
       "      <td>-4.718740e+00</td>\n",
       "      <td>1.000000</td>\n",
       "    </tr>\n",
       "    <tr>\n",
       "      <th>25%</th>\n",
       "      <td>0.208225</td>\n",
       "      <td>5.794974e+00</td>\n",
       "      <td>26.000000</td>\n",
       "    </tr>\n",
       "    <tr>\n",
       "      <th>50%</th>\n",
       "      <td>0.871300</td>\n",
       "      <td>1.212098e+01</td>\n",
       "      <td>35.000000</td>\n",
       "    </tr>\n",
       "    <tr>\n",
       "      <th>75%</th>\n",
       "      <td>0.986300</td>\n",
       "      <td>1.977735e+01</td>\n",
       "      <td>46.000000</td>\n",
       "    </tr>\n",
       "    <tr>\n",
       "      <th>max</th>\n",
       "      <td>1.000000</td>\n",
       "      <td>inf</td>\n",
       "      <td>102.000000</td>\n",
       "    </tr>\n",
       "  </tbody>\n",
       "</table>\n",
       "</div>"
      ],
      "text/plain": [
       "       cough_detected           SNR           age\n",
       "count    27550.000000  2.755000e+04  15218.000000\n",
       "mean         0.649544           inf     36.800611\n",
       "std          0.387850           NaN     14.599737\n",
       "min          0.000000 -4.718740e+00      1.000000\n",
       "25%          0.208225  5.794974e+00     26.000000\n",
       "50%          0.871300  1.212098e+01     35.000000\n",
       "75%          0.986300  1.977735e+01     46.000000\n",
       "max          1.000000           inf    102.000000"
      ]
     },
     "execution_count": 14,
     "metadata": {},
     "output_type": "execute_result"
    }
   ],
   "source": [
    "data_cut[['cough_detected', 'SNR', 'age']].describe()"
   ]
  },
  {
   "cell_type": "markdown",
   "metadata": {},
   "source": [
    "Für die SNR Werte gilt \n",
    "- Je höher der Wert, desto lauter ist das relevante Audiosignal im Verhältniss zu Hintergrundgeräuschen/ Rauschen\n",
    "- Es gilt festzustellen, wo ein entsprechender Threshhold gesetzt werden müsste unterhalb derer, die Audiosamples für die Weiterverarbeitung ungeeignet sind\n",
    "    - Evtl. lassen sich vorab gewisse Methoden zur Rauschunterdrückung auf die Audiosamples anwenden\n",
    "- Problem: Unplausible Werte bei der Erfassung der grundliegenden statistischen Werte"
   ]
  },
  {
   "cell_type": "markdown",
   "metadata": {},
   "source": []
  }
 ],
 "metadata": {
  "kernelspec": {
   "display_name": "base",
   "language": "python",
   "name": "python3"
  },
  "language_info": {
   "codemirror_mode": {
    "name": "ipython",
    "version": 3
   },
   "file_extension": ".py",
   "mimetype": "text/x-python",
   "name": "python",
   "nbconvert_exporter": "python",
   "pygments_lexer": "ipython3",
   "version": "3.11.5"
  }
 },
 "nbformat": 4,
 "nbformat_minor": 2
}
